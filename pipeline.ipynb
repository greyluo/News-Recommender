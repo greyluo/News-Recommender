{
 "cells": [
  {
   "cell_type": "code",
   "execution_count": 1,
   "metadata": {},
   "outputs": [],
   "source": [
    "import gc # garbage collector\n",
    "import pandas as pd\n",
    "import numpy as np\n",
    "from sklearn.feature_extraction.text import TfidfVectorizer\n",
    "from sklearn.preprocessing import OneHotEncoder\n",
    "from scipy.sparse import csr_matrix, hstack, lil_matrix\n",
    "from sklearn.preprocessing import MinMaxScaler\n",
    "from sklearn.metrics import roc_auc_score\n",
    "from collections import Counter\n",
    "from FactorizationMachineClassifier import FactorizationMachineClassifier"
   ]
  },
  {
   "cell_type": "code",
   "execution_count": 2,
   "metadata": {},
   "outputs": [],
   "source": [
    "def process_dataset(news_filepath, interactions_filepath):\n",
    "    \"\"\" Read and process the datasets given the filepath. Return the cleaned news_df and interactions_df\"\"\"\n",
    "\n",
    "    news = pd.read_csv(news_filepath,sep='\\t',header=None, index_col=0)\n",
    "    news.columns = [\"Category\", \"SubCategory\", \"Title\", \"Abstract\", \"URL\", \"Entities\", \"RelatedEntities\"]\n",
    "    news.drop(columns=[\"URL\", \"Entities\", \"RelatedEntities\"], inplace=True)\n",
    "\n",
    "    interactions = pd.read_csv(interactions_filepath, sep='\\t',header=None, index_col=0, usecols=[0, 1, 3, 4])\n",
    "    interactions.columns = ['uID','history','impLog']\n",
    "    # data type conversion\n",
    "    interactions['impLog'] = interactions['impLog'].apply(lambda x: [(y.split('-')[0], int(y.split('-')[1])) for y in x.split(' ')])\n",
    "    interactions['history'] = interactions['history'].str.split()\n",
    "\n",
    "    gc.collect()\n",
    "    \n",
    "    return news, interactions"
   ]
  },
  {
   "cell_type": "code",
   "execution_count": 14,
   "metadata": {},
   "outputs": [],
   "source": [
    "def feature_label(news, interactions):\n",
    "    \"\"\" Given the news dataset and interactions dataset, return the feature vector (X) and the lable vector (y)\"\"\"\n",
    "\n",
    "    # news: tfidf + labels\n",
    "    def vectorize(data):\n",
    "        vectorizer = TfidfVectorizer(max_features=1000)\n",
    "        vectorizer.fit(data)\n",
    "        return vectorizer.transform(data)\n",
    "    tfidf = vectorize(news['Title'])\n",
    "    def one_hot(data, category):\n",
    "        enc = OneHotEncoder(categories=[category_dict[category]], handle_unknown='ignore')\n",
    "        return enc.fit_transform(data)\n",
    "    one_hot_category = one_hot(news[['Category']], 'Category')\n",
    "    one_hot_subcategory = one_hot(news[['SubCategory']], 'SubCategory')\n",
    "    ## combine tf-idf and one_hot_category and one_hot_subcategory\n",
    "    news_vector = hstack([tfidf, one_hot_category, one_hot_subcategory], format='csr')\n",
    "    news_map = dict(zip(news.index, news_vector.toarray()))\n",
    "\n",
    "    # user_history: news labels (aggregated)\n",
    "    def process_row(row, categories):   \n",
    "        category_count = Counter(row)\n",
    "        return [category_count.get(category, 0) for category in categories]\n",
    "    def labels_one_hot(category):\n",
    "        interactions[category] = interactions['history'].apply(lambda x: [news.at[nID, category] for nID in x] if x is not np.NaN else [])\n",
    "        return interactions[category].apply(lambda x: process_row(x, category_dict[category]))\n",
    "    interactions['category_hist_encoded'] = labels_one_hot('Category')\n",
    "    interactions['subcategory_hist_encoded'] = labels_one_hot('SubCategory')\n",
    "\n",
    "    # explode the dataframe to make one impLog pair per row\n",
    "    interactions_explode = interactions[['uID', 'impLog', 'category_hist_encoded', 'subcategory_hist_encoded']].explode('impLog')\n",
    "    interactions_explode['nID'] = interactions_explode['impLog'].apply(lambda x: news_map[x[0]] if x[0] in news_map else np.zeros(len(list(news_map.values())[0])))\n",
    "    interactions_explode['label'] = interactions_explode['impLog'].apply(lambda x: x[1])\n",
    "\n",
    "    # standardize the user_history label columns\n",
    "    scalar = MinMaxScaler()\n",
    "    category_hist_encoded = scalar.fit_transform(interactions_explode['category_hist_encoded'].to_list())\n",
    "    subcategory_hist_encoded = scalar.fit_transform(interactions_explode['subcategory_hist_encoded'].to_list())\n",
    "\n",
    "    news_encoded = csr_matrix(interactions_explode['nID'].to_list())\n",
    "    \n",
    "    labels = interactions_explode['label'].to_numpy() # y\n",
    "\n",
    "    del interactions, interactions_explode, news_map, news, news_vector # free up memory\n",
    "    gc.collect()\n",
    "    \n",
    "    return hstack([category_hist_encoded, subcategory_hist_encoded, news_encoded], format='csr'), labels\n"
   ]
  },
  {
   "cell_type": "code",
   "execution_count": 16,
   "metadata": {},
   "outputs": [],
   "source": [
    "news_train, interactions_train = process_dataset('Sample data/train/news.tsv', 'Sample data/train/behaviors.tsv')"
   ]
  },
  {
   "cell_type": "code",
   "execution_count": 17,
   "metadata": {},
   "outputs": [],
   "source": [
    "# We define news categories based on the training set to maintain consistent feature dimensions across both training and test sets. \n",
    "# (We notice that the test set often has fewer news categories than the train set does)\n",
    "category_dict = {'Category': news_train['Category'].unique(), 'SubCategory': news_train['SubCategory'].unique()}\n",
    "\n",
    "X_train, y_train = feature_label(news_train, interactions_train)\n",
    "print(\"train data collected\")"
   ]
  },
  {
   "cell_type": "code",
   "execution_count": 11,
   "metadata": {},
   "outputs": [
    {
     "name": "stderr",
     "output_type": "stream",
     "text": [
      "100%|██████████| 10/10 [01:03<00:00,  6.35s/it]\n"
     ]
    },
    {
     "name": "stdout",
     "output_type": "stream",
     "text": [
      "model training completed\n",
      "Train AUC score: 0.6131943823402324\n"
     ]
    },
    {
     "data": {
      "text/plain": [
       "22470"
      ]
     },
     "execution_count": 11,
     "metadata": {},
     "output_type": "execute_result"
    }
   ],
   "source": [
    "fm = FactorizationMachineClassifier(n_iter = 10, learning_rate = 0.01, n_factors=10, verbose=True)\n",
    "fm.fit(X_train, y_train)\n",
    "print(\"model training completed\")\n",
    "\n",
    "y_pred_train = fm.predict(X_train)\n",
    "print(\"Train AUC score: \" + str(roc_auc_score(y_train, y_pred_train)))\n",
    "\n",
    "del X_train, news_train, interactions_train # delete X_train and orginal datasets to free up memory\n",
    "gc.collect()"
   ]
  },
  {
   "cell_type": "code",
   "execution_count": 12,
   "metadata": {},
   "outputs": [],
   "source": [
    "news_test, interactions_test = process_dataset('Sample data/test/news.tsv', 'Sample data/test/behaviors.tsv')"
   ]
  },
  {
   "cell_type": "code",
   "execution_count": 15,
   "metadata": {},
   "outputs": [
    {
     "name": "stdout",
     "output_type": "stream",
     "text": [
      "test data collected\n",
      "Test AUC score: 0.5421953556371717\n"
     ]
    }
   ],
   "source": [
    "X_test, y_test = feature_label(news_test, interactions_test)\n",
    "print(\"test data collected\")\n",
    "\n",
    "y_pred_test = fm.predict(X_test)\n",
    "print(\"Test AUC score: \" + str(roc_auc_score(y_test, y_pred_test)))"
   ]
  },
  {
   "cell_type": "code",
   "execution_count": null,
   "metadata": {},
   "outputs": [],
   "source": []
  }
 ],
 "metadata": {
  "kernelspec": {
   "display_name": "Python 3.9.7 ('base')",
   "language": "python",
   "name": "python3"
  },
  "language_info": {
   "codemirror_mode": {
    "name": "ipython",
    "version": 3
   },
   "file_extension": ".py",
   "mimetype": "text/x-python",
   "name": "python",
   "nbconvert_exporter": "python",
   "pygments_lexer": "ipython3",
   "version": "3.11.5"
  },
  "vscode": {
   "interpreter": {
    "hash": "ecc09027ee5b2bcf5085d4cda4c9868425dafff1c3df9390a50dd18cedb3cd7a"
   }
  }
 },
 "nbformat": 4,
 "nbformat_minor": 2
}
