{
 "cells": [
  {
   "cell_type": "code",
   "execution_count": 1,
   "metadata": {},
   "outputs": [],
   "source": [
    "import pandas as pd\n",
    "import numpy as np\n",
    "from sklearn.feature_extraction.text import TfidfVectorizer\n",
    "from sklearn.preprocessing import OneHotEncoder\n",
    "from scipy.sparse import csr_matrix, hstack, lil_matrix\n",
    "from sklearn.preprocessing import MinMaxScaler\n",
    "from sklearn.metrics import roc_auc_score\n",
    "from FactorizationMachineClassifier import FactorizationMachineClassifier"
   ]
  },
  {
   "cell_type": "code",
   "execution_count": 2,
   "metadata": {},
   "outputs": [],
   "source": [
    "def process_dataset(news_filepath, interactions_filepath):\n",
    "    \"\"\" Read and process the datasets given the filepath. Return the cleaned news_df and interactions_df\"\"\"\n",
    "\n",
    "    news = pd.read_csv(news_filepath,sep='\\t',header=None, index_col=0)\n",
    "    news.columns = [\"Category\", \"SubCategory\", \"Title\", \"Abstract\", \"URL\", \"Entities\", \"RelatedEntities\"]\n",
    "    news.drop(columns=[\"URL\", \"Entities\", \"RelatedEntities\"], inplace=True)\n",
    "\n",
    "    interactions = pd.read_csv(interactions_filepath, sep='\\t',header=None, index_col=0, usecols=[0, 1, 3, 4])\n",
    "    interactions.columns = ['uID','history','impLog']\n",
    "    # data type conversion\n",
    "    interactions['impLog'] = interactions['impLog'].apply(lambda x: [(y.split('-')[0], int(y.split('-')[1])) for y in x.split(' ')])\n",
    "    interactions['history'] = interactions['history'].str.split()\n",
    "    \n",
    "    return news, interactions"
   ]
  },
  {
   "cell_type": "code",
   "execution_count": 3,
   "metadata": {},
   "outputs": [],
   "source": [
    "def feature_label(news, interactions):\n",
    "    \"\"\" Given the news dataset and interactions dataset, return the feature vector (X) and the lable vector (y)\"\"\"\n",
    "\n",
    "    # news: tfidf + labels\n",
    "    def vectorize(data):\n",
    "        vectorizer = TfidfVectorizer(max_features=1000)\n",
    "        vectorizer.fit(data)\n",
    "        return vectorizer.transform(data)\n",
    "    tfidf = vectorize(news['Title'])\n",
    "    def one_hot(data):\n",
    "        enc = OneHotEncoder()\n",
    "        return enc.fit_transform(data)\n",
    "    one_hot_category = one_hot(news[['Category']])\n",
    "    one_hot_subcategory = one_hot(news[['SubCategory']])\n",
    "    ## combine tf-idf and one_hot_category and one_hot_subcategory\n",
    "    news_vector = hstack([tfidf, one_hot_category, one_hot_subcategory])\n",
    "    news_map = dict(zip(news.index, news_vector.toarray()))\n",
    "\n",
    "    # user_history: news labels (aggregated)\n",
    "    def process_row(row, categories):\n",
    "        category_count = {category: 0 for category in categories}\n",
    "        for category in row:\n",
    "            if category in category_count:\n",
    "                category_count[category] += 1\n",
    "        category_count = {k: category_count[k] for k in sorted(category_count)}\n",
    "        return list(category_count.values())\n",
    "    def labels_one_hot(category):\n",
    "        categories = news[category].unique()\n",
    "        interactions[category] = interactions['history'].apply(lambda x: [news.loc[nID][category] for nID in x] if x is not np.NaN else [])\n",
    "        return interactions[category].apply(lambda x: process_row(x, categories))\n",
    "    interactions['category_hist_encoded'] = labels_one_hot('Category')\n",
    "    interactions['subcategory_hist_encoded'] = labels_one_hot('SubCategory')\n",
    "    \n",
    "    # explode the dataframe to make one impLog pair per row\n",
    "    interactions_explode = interactions[['uID', 'impLog', 'category_hist_encoded', 'subcategory_hist_encoded']].explode('impLog')\n",
    "    interactions_explode['nID'] = interactions_explode['impLog'].apply(lambda x: news_map[x[0]] if x[0] in news_map else [0] * len(list(news_map.values())[0]))\n",
    "    interactions_explode['label'] = interactions_explode['impLog'].apply(lambda x: x[1])\n",
    "\n",
    "    # standardize the user_history label columns\n",
    "    scalar = MinMaxScaler()\n",
    "    category_hist_encoded = scalar.fit_transform(interactions_explode['category_hist_encoded'].to_list())\n",
    "    subcategory_hist_encoded = scalar.fit_transform(interactions_explode['subcategory_hist_encoded'].to_list())\n",
    "\n",
    "    news_encoded = csr_matrix(interactions_explode['nID'].to_list())\n",
    "    \n",
    "    return hstack([category_hist_encoded, subcategory_hist_encoded, news_encoded]).tocsr(), interactions_explode['label'].to_numpy()\n"
   ]
  },
  {
   "cell_type": "code",
   "execution_count": 5,
   "metadata": {},
   "outputs": [],
   "source": [
    "news_train, interactions_train = process_dataset('Sample data/train/news.tsv', 'Sample data/train/behaviors.tsv')\n",
    "news_test, interactions_test = process_dataset('Sample data/test/news.tsv', 'Sample data/test/behaviors.tsv')"
   ]
  },
  {
   "cell_type": "code",
   "execution_count": 6,
   "metadata": {},
   "outputs": [],
   "source": [
    "X_train, y_train = feature_label(news_train, interactions_train)\n",
    "X_test, y_test = feature_label(news_test, interactions_test)"
   ]
  },
  {
   "cell_type": "code",
   "execution_count": null,
   "metadata": {},
   "outputs": [],
   "source": [
    "fm = FactorizationMachineClassifier(n_iter = 10, learning_rate = 0.01, n_factors=10, verbose=True)\n",
    "fm.fit(X_train, y_train)"
   ]
  },
  {
   "cell_type": "code",
   "execution_count": null,
   "metadata": {},
   "outputs": [],
   "source": [
    "y_pred_train = fm.predict(X_train)\n",
    "print(\"Train AUC score: \" + str(roc_auc_score(y_train, y_pred_train)))"
   ]
  },
  {
   "cell_type": "code",
   "execution_count": null,
   "metadata": {},
   "outputs": [],
   "source": [
    "y_pred_test = fm.predict(X_test)\n",
    "print(\"Test AUC score: \" + str(roc_auc_score(y_test, y_pred_test)))"
   ]
  },
  {
   "cell_type": "code",
   "execution_count": null,
   "metadata": {},
   "outputs": [],
   "source": []
  }
 ],
 "metadata": {
  "kernelspec": {
   "display_name": "Python 3.9.7 ('base')",
   "language": "python",
   "name": "python3"
  },
  "language_info": {
   "codemirror_mode": {
    "name": "ipython",
    "version": 3
   },
   "file_extension": ".py",
   "mimetype": "text/x-python",
   "name": "python",
   "nbconvert_exporter": "python",
   "pygments_lexer": "ipython3",
   "version": "3.11.5"
  },
  "vscode": {
   "interpreter": {
    "hash": "ecc09027ee5b2bcf5085d4cda4c9868425dafff1c3df9390a50dd18cedb3cd7a"
   }
  }
 },
 "nbformat": 4,
 "nbformat_minor": 2
}
