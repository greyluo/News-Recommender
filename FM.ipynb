{
 "cells": [
  {
   "cell_type": "code",
   "execution_count": 1,
   "metadata": {},
   "outputs": [],
   "source": [
    "import pandas as pd\n",
    "import numpy as np\n",
    "from sklearn.feature_extraction.text import TfidfVectorizer\n",
    "from sklearn.preprocessing import OneHotEncoder\n",
    "from scipy.sparse import coo_array, hstack, coo_matrix"
   ]
  },
  {
   "cell_type": "code",
   "execution_count": 2,
   "metadata": {},
   "outputs": [],
   "source": [
    "interactions = pd.read_csv('Sample data/train/behaviors.tsv', sep='\\t',header=None, index_col=0, usecols=[0, 1, 3, 4])\n",
    "interactions.columns = ['uID','history','impLog']\n",
    "\n",
    "interactions['impLog'] = interactions['impLog'].apply(lambda x: [(y.split('-')[0], int(y.split('-')[1])) for y in x.split(' ')])\n",
    "interactions['history'] = interactions['history'].str.split()"
   ]
  },
  {
   "cell_type": "code",
   "execution_count": 3,
   "metadata": {},
   "outputs": [],
   "source": [
    "news = pd.read_csv('Sample data/train/news.tsv',sep='\\t',header=None, index_col=0)\n",
    "news.columns = [\"Category\", \"SubCategory\", \"Title\", \"Abstract\", \"URL\", \"Entities\", \"RelatedEntities\"]\n",
    "news.drop(columns=[\"URL\", \"Entities\", \"RelatedEntities\"], inplace=True)"
   ]
  },
  {
   "cell_type": "code",
   "execution_count": 4,
   "metadata": {},
   "outputs": [],
   "source": [
    "# tf-idf vectorization\n",
    "def vectorize(data):\n",
    "    vectorizer = TfidfVectorizer(max_features=1000)\n",
    "    vectorizer.fit(data)\n",
    "    return vectorizer.transform(data)\n",
    "tfidf = vectorize(news['Title'])\n",
    "# one-hot encoding\n",
    "def one_hot(data):\n",
    "    enc = OneHotEncoder()\n",
    "    return enc.fit_transform(data)\n",
    "one_hot_category = one_hot(news[['Category']])\n",
    "one_hot_subcategory = one_hot(news[['SubCategory']])\n",
    "# combine tf-idf and one_hot_category and one_hot_subcategory\n",
    "news_vector = hstack([tfidf, one_hot_category, one_hot_subcategory])\n",
    "news_map = dict(zip(news.index, news_vector.toarray()))\n"
   ]
  },
  {
   "cell_type": "code",
   "execution_count": 5,
   "metadata": {},
   "outputs": [],
   "source": [
    "# label/sub-label user-hitory one-hot encoding\n",
    "\n",
    "def process_row(row, categories):\n",
    "    category_count = {category: 0 for category in categories}\n",
    "    for category in row:\n",
    "        if category in category_count:\n",
    "            category_count[category] += 1\n",
    "    category_count = {k: category_count[k] for k in sorted(category_count)}\n",
    "    return list(category_count.values())\n",
    "\n",
    "def labels_one_hot(category):\n",
    "    categories = news[category].unique()\n",
    "    interactions[category] = interactions['history'].apply(lambda x: [news.loc[nID][category] for nID in x] if x is not np.NaN else [])\n",
    "    return interactions[category].apply(lambda x: process_row(x, categories))\n",
    "\n",
    "interactions['category_hist_encoded'] = labels_one_hot('Category')\n",
    "interactions['subcategory_hist_encoded'] = labels_one_hot('SubCategory')"
   ]
  },
  {
   "cell_type": "code",
   "execution_count": 6,
   "metadata": {},
   "outputs": [],
   "source": [
    "interactions_explode = interactions[['uID', 'impLog', 'category_hist_encoded', 'subcategory_hist_encoded']].explode('impLog')\n",
    "\n",
    "interactions_explode['nID'] = interactions_explode['impLog'].apply(lambda x: news_map[x[0]] if x[0] in news_map else [0] * len(list(news_map.values())[0]))\n",
    "interactions_explode['label'] = interactions_explode['impLog'].apply(lambda x: 1 if x[1] == 1 else -1)"
   ]
  },
  {
   "cell_type": "code",
   "execution_count": 7,
   "metadata": {},
   "outputs": [
    {
     "data": {
      "text/html": [
       "<div>\n",
       "<style scoped>\n",
       "    .dataframe tbody tr th:only-of-type {\n",
       "        vertical-align: middle;\n",
       "    }\n",
       "\n",
       "    .dataframe tbody tr th {\n",
       "        vertical-align: top;\n",
       "    }\n",
       "\n",
       "    .dataframe thead th {\n",
       "        text-align: right;\n",
       "    }\n",
       "</style>\n",
       "<table border=\"1\" class=\"dataframe\">\n",
       "  <thead>\n",
       "    <tr style=\"text-align: right;\">\n",
       "      <th></th>\n",
       "      <th>uID</th>\n",
       "      <th>impLog</th>\n",
       "      <th>category_hist_encoded</th>\n",
       "      <th>subcategory_hist_encoded</th>\n",
       "      <th>nID</th>\n",
       "      <th>label</th>\n",
       "    </tr>\n",
       "    <tr>\n",
       "      <th>0</th>\n",
       "      <th></th>\n",
       "      <th></th>\n",
       "      <th></th>\n",
       "      <th></th>\n",
       "      <th></th>\n",
       "      <th></th>\n",
       "    </tr>\n",
       "  </thead>\n",
       "  <tbody>\n",
       "    <tr>\n",
       "      <th>1</th>\n",
       "      <td>U13740</td>\n",
       "      <td>(N55689, 1)</td>\n",
       "      <td>[0, 0, 0, 0, 0, 0, 1, 0, 1, 0, 3, 0, 2, 0, 2, ...</td>\n",
       "      <td>[0, 0, 0, 0, 0, 0, 0, 0, 0, 0, 0, 0, 0, 0, 0, ...</td>\n",
       "      <td>[0.0, 0.0, 0.0, 0.0, 0.0, 0.0, 0.0, 0.0, 0.0, ...</td>\n",
       "      <td>1</td>\n",
       "    </tr>\n",
       "    <tr>\n",
       "      <th>1</th>\n",
       "      <td>U13740</td>\n",
       "      <td>(N35729, 0)</td>\n",
       "      <td>[0, 0, 0, 0, 0, 0, 1, 0, 1, 0, 3, 0, 2, 0, 2, ...</td>\n",
       "      <td>[0, 0, 0, 0, 0, 0, 0, 0, 0, 0, 0, 0, 0, 0, 0, ...</td>\n",
       "      <td>[0.0, 0.0, 0.0, 0.0, 0.0, 0.0, 0.0, 0.0, 0.0, ...</td>\n",
       "      <td>-1</td>\n",
       "    </tr>\n",
       "    <tr>\n",
       "      <th>2</th>\n",
       "      <td>U91836</td>\n",
       "      <td>(N20678, 0)</td>\n",
       "      <td>[0, 0, 5, 3, 1, 0, 5, 0, 1, 1, 54, 0, 3, 5, 0,...</td>\n",
       "      <td>[0, 0, 0, 0, 0, 0, 0, 0, 0, 0, 0, 0, 0, 0, 0, ...</td>\n",
       "      <td>[0.0, 0.0, 0.0, 0.0, 0.0, 0.0, 0.0, 0.0, 0.0, ...</td>\n",
       "      <td>-1</td>\n",
       "    </tr>\n",
       "    <tr>\n",
       "      <th>2</th>\n",
       "      <td>U91836</td>\n",
       "      <td>(N39317, 0)</td>\n",
       "      <td>[0, 0, 5, 3, 1, 0, 5, 0, 1, 1, 54, 0, 3, 5, 0,...</td>\n",
       "      <td>[0, 0, 0, 0, 0, 0, 0, 0, 0, 0, 0, 0, 0, 0, 0, ...</td>\n",
       "      <td>[0.0, 0.0, 0.0, 0.0, 0.0, 0.0, 0.0, 0.0, 0.0, ...</td>\n",
       "      <td>-1</td>\n",
       "    </tr>\n",
       "    <tr>\n",
       "      <th>2</th>\n",
       "      <td>U91836</td>\n",
       "      <td>(N58114, 0)</td>\n",
       "      <td>[0, 0, 5, 3, 1, 0, 5, 0, 1, 1, 54, 0, 3, 5, 0,...</td>\n",
       "      <td>[0, 0, 0, 0, 0, 0, 0, 0, 0, 0, 0, 0, 0, 0, 0, ...</td>\n",
       "      <td>[0.0, 0.0, 0.0, 0.0, 0.0, 0.0, 0.0, 0.0, 0.0, ...</td>\n",
       "      <td>-1</td>\n",
       "    </tr>\n",
       "  </tbody>\n",
       "</table>\n",
       "</div>"
      ],
      "text/plain": [
       "      uID       impLog                              category_hist_encoded  \\\n",
       "0                                                                           \n",
       "1  U13740  (N55689, 1)  [0, 0, 0, 0, 0, 0, 1, 0, 1, 0, 3, 0, 2, 0, 2, ...   \n",
       "1  U13740  (N35729, 0)  [0, 0, 0, 0, 0, 0, 1, 0, 1, 0, 3, 0, 2, 0, 2, ...   \n",
       "2  U91836  (N20678, 0)  [0, 0, 5, 3, 1, 0, 5, 0, 1, 1, 54, 0, 3, 5, 0,...   \n",
       "2  U91836  (N39317, 0)  [0, 0, 5, 3, 1, 0, 5, 0, 1, 1, 54, 0, 3, 5, 0,...   \n",
       "2  U91836  (N58114, 0)  [0, 0, 5, 3, 1, 0, 5, 0, 1, 1, 54, 0, 3, 5, 0,...   \n",
       "\n",
       "                            subcategory_hist_encoded  \\\n",
       "0                                                      \n",
       "1  [0, 0, 0, 0, 0, 0, 0, 0, 0, 0, 0, 0, 0, 0, 0, ...   \n",
       "1  [0, 0, 0, 0, 0, 0, 0, 0, 0, 0, 0, 0, 0, 0, 0, ...   \n",
       "2  [0, 0, 0, 0, 0, 0, 0, 0, 0, 0, 0, 0, 0, 0, 0, ...   \n",
       "2  [0, 0, 0, 0, 0, 0, 0, 0, 0, 0, 0, 0, 0, 0, 0, ...   \n",
       "2  [0, 0, 0, 0, 0, 0, 0, 0, 0, 0, 0, 0, 0, 0, 0, ...   \n",
       "\n",
       "                                                 nID  label  \n",
       "0                                                            \n",
       "1  [0.0, 0.0, 0.0, 0.0, 0.0, 0.0, 0.0, 0.0, 0.0, ...      1  \n",
       "1  [0.0, 0.0, 0.0, 0.0, 0.0, 0.0, 0.0, 0.0, 0.0, ...     -1  \n",
       "2  [0.0, 0.0, 0.0, 0.0, 0.0, 0.0, 0.0, 0.0, 0.0, ...     -1  \n",
       "2  [0.0, 0.0, 0.0, 0.0, 0.0, 0.0, 0.0, 0.0, 0.0, ...     -1  \n",
       "2  [0.0, 0.0, 0.0, 0.0, 0.0, 0.0, 0.0, 0.0, 0.0, ...     -1  "
      ]
     },
     "execution_count": 7,
     "metadata": {},
     "output_type": "execute_result"
    }
   ],
   "source": [
    "interactions_explode.head()"
   ]
  },
  {
   "cell_type": "code",
   "execution_count": 8,
   "metadata": {},
   "outputs": [],
   "source": [
    "# user_id one-hot encoding\n",
    "encoder = OneHotEncoder()\n",
    "encoded_user = encoder.fit_transform(interactions_explode[['uID']])"
   ]
  },
  {
   "cell_type": "code",
   "execution_count": 9,
   "metadata": {},
   "outputs": [],
   "source": [
    "coo_encoded_user = coo_array(encoded_user)\n",
    "coo_category_hist_encoded = coo_array(interactions_explode['category_hist_encoded'].to_list())\n",
    "coo_subcategory_hist_encoded = coo_array(interactions_explode['subcategory_hist_encoded'].to_list())\n",
    "#coo_news = coo_matrix(interactions_explode['nID'])"
   ]
  },
  {
   "cell_type": "code",
   "execution_count": 10,
   "metadata": {},
   "outputs": [],
   "source": [
    "coo_news = coo_array(interactions_explode['nID'].to_list())"
   ]
  },
  {
   "cell_type": "code",
   "execution_count": 15,
   "metadata": {},
   "outputs": [],
   "source": [
    "X_train = hstack([coo_encoded_user, coo_category_hist_encoded, coo_subcategory_hist_encoded, coo_news])"
   ]
  },
  {
   "cell_type": "code",
   "execution_count": 16,
   "metadata": {},
   "outputs": [],
   "source": [
    "import scipy.sparse as sp\n",
    "x\n",
    "sp.save_npz('X_train.npz', X_train)"
   ]
  },
  {
   "cell_type": "code",
   "execution_count": 16,
   "metadata": {},
   "outputs": [
    {
     "ename": "ModuleNotFoundError",
     "evalue": "No module named 'fastFM'",
     "output_type": "error",
     "traceback": [
      "\u001b[0;31m---------------------------------------------------------------------------\u001b[0m",
      "\u001b[0;31mModuleNotFoundError\u001b[0m                       Traceback (most recent call last)",
      "\u001b[1;32m/Users/yiting/Documents/GitHub/News-Recommender/FM.ipynb Cell 10\u001b[0m line \u001b[0;36m1\n\u001b[0;32m----> <a href='vscode-notebook-cell:/Users/yiting/Documents/GitHub/News-Recommender/FM.ipynb#X11sZmlsZQ%3D%3D?line=0'>1</a>\u001b[0m \u001b[39mfrom\u001b[39;00m \u001b[39mfastFM\u001b[39;00m \u001b[39mimport\u001b[39;00m sgd\n\u001b[1;32m      <a href='vscode-notebook-cell:/Users/yiting/Documents/GitHub/News-Recommender/FM.ipynb#X11sZmlsZQ%3D%3D?line=1'>2</a>\u001b[0m fm \u001b[39m=\u001b[39m sgd\u001b[39m.\u001b[39mFMClassification(n_iter\u001b[39m=\u001b[39m\u001b[39m1000\u001b[39m, init_stdev\u001b[39m=\u001b[39m\u001b[39m0.1\u001b[39m, l2_reg_w\u001b[39m=\u001b[39m\u001b[39m0\u001b[39m,\n\u001b[1;32m      <a href='vscode-notebook-cell:/Users/yiting/Documents/GitHub/News-Recommender/FM.ipynb#X11sZmlsZQ%3D%3D?line=2'>3</a>\u001b[0m                           l2_reg_V\u001b[39m=\u001b[39m\u001b[39m0\u001b[39m, rank\u001b[39m=\u001b[39m\u001b[39m2\u001b[39m, step_size\u001b[39m=\u001b[39m\u001b[39m0.1\u001b[39m)\n\u001b[1;32m      <a href='vscode-notebook-cell:/Users/yiting/Documents/GitHub/News-Recommender/FM.ipynb#X11sZmlsZQ%3D%3D?line=3'>4</a>\u001b[0m fm\u001b[39m.\u001b[39mfit(X_train, y_train)\n",
      "\u001b[0;31mModuleNotFoundError\u001b[0m: No module named 'fastFM'"
     ]
    }
   ],
   "source": [
    "from fastFM import sgd\n",
    "fm = sgd.FMClassification(n_iter=1000, init_stdev=0.1, l2_reg_w=0,\n",
    "                          l2_reg_V=0, rank=2, step_size=0.1)\n",
    "fm.fit(X_train, y_train)\n",
    "y_pred = fm.predict(X_test)"
   ]
  }
 ],
 "metadata": {
  "kernelspec": {
   "display_name": "Python 3",
   "language": "python",
   "name": "python3"
  },
  "language_info": {
   "codemirror_mode": {
    "name": "ipython",
    "version": 3
   },
   "file_extension": ".py",
   "mimetype": "text/x-python",
   "name": "python",
   "nbconvert_exporter": "python",
   "pygments_lexer": "ipython3",
   "version": "3.11.5"
  }
 },
 "nbformat": 4,
 "nbformat_minor": 2
}
