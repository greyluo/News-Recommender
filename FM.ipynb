{
 "cells": [
  {
   "cell_type": "code",
   "execution_count": 6,
   "metadata": {},
   "outputs": [],
   "source": [
    "import pandas as pd\n",
    "from sklearn.feature_extraction.text import TfidfVectorizer"
   ]
  },
  {
   "cell_type": "code",
   "execution_count": 4,
   "metadata": {},
   "outputs": [],
   "source": [
    "news = pd.read_csv('Sample data/train/news.tsv',sep='\\t',header=None, index_col=0)\n",
    "news.columns = [\"Category\", \"SubCategory\", \"Title\", \"Abstract\", \"URL\", \"Entities\", \"RelatedEntities\"]\n",
    "news.drop(columns=[\"URL\", \"Entities\", \"RelatedEntities\"], inplace=True)"
   ]
  },
  {
   "cell_type": "code",
   "execution_count": 13,
   "metadata": {},
   "outputs": [],
   "source": [
    "# tf-idf vectorization\n",
    "def vectorize(data):\n",
    "    vectorizer = TfidfVectorizer()\n",
    "    vectorizer.fit(data)\n",
    "    return vectorizer.transform(data)"
   ]
  }
 ],
 "metadata": {
  "kernelspec": {
   "display_name": "Python 3",
   "language": "python",
   "name": "python3"
  },
  "language_info": {
   "codemirror_mode": {
    "name": "ipython",
    "version": 3
   },
   "file_extension": ".py",
   "mimetype": "text/x-python",
   "name": "python",
   "nbconvert_exporter": "python",
   "pygments_lexer": "ipython3",
   "version": "3.11.1"
  }
 },
 "nbformat": 4,
 "nbformat_minor": 2
}
