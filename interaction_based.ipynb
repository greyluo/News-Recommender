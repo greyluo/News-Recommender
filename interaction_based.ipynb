{
 "cells": [
  {
   "cell_type": "code",
   "execution_count": 1,
   "metadata": {},
   "outputs": [],
   "source": [
    "import numpy as np\n",
    "import pandas as pd\n",
    "from collections import defaultdict"
   ]
  },
  {
   "cell_type": "code",
   "execution_count": 2,
   "metadata": {},
   "outputs": [
    {
     "data": {
      "text/html": [
       "<div>\n",
       "<style scoped>\n",
       "    .dataframe tbody tr th:only-of-type {\n",
       "        vertical-align: middle;\n",
       "    }\n",
       "\n",
       "    .dataframe tbody tr th {\n",
       "        vertical-align: top;\n",
       "    }\n",
       "\n",
       "    .dataframe thead th {\n",
       "        text-align: right;\n",
       "    }\n",
       "</style>\n",
       "<table border=\"1\" class=\"dataframe\">\n",
       "  <thead>\n",
       "    <tr style=\"text-align: right;\">\n",
       "      <th></th>\n",
       "      <th>label</th>\n",
       "      <th>sub_label</th>\n",
       "    </tr>\n",
       "    <tr>\n",
       "      <th>nID</th>\n",
       "      <th></th>\n",
       "      <th></th>\n",
       "    </tr>\n",
       "  </thead>\n",
       "  <tbody>\n",
       "    <tr>\n",
       "      <th>N55528</th>\n",
       "      <td>lifestyle</td>\n",
       "      <td>lifestyleroyals</td>\n",
       "    </tr>\n",
       "    <tr>\n",
       "      <th>N19639</th>\n",
       "      <td>health</td>\n",
       "      <td>weightloss</td>\n",
       "    </tr>\n",
       "    <tr>\n",
       "      <th>N61837</th>\n",
       "      <td>news</td>\n",
       "      <td>newsworld</td>\n",
       "    </tr>\n",
       "    <tr>\n",
       "      <th>N53526</th>\n",
       "      <td>health</td>\n",
       "      <td>voices</td>\n",
       "    </tr>\n",
       "    <tr>\n",
       "      <th>N38324</th>\n",
       "      <td>health</td>\n",
       "      <td>medical</td>\n",
       "    </tr>\n",
       "  </tbody>\n",
       "</table>\n",
       "</div>"
      ],
      "text/plain": [
       "            label        sub_label\n",
       "nID                               \n",
       "N55528  lifestyle  lifestyleroyals\n",
       "N19639     health       weightloss\n",
       "N61837       news        newsworld\n",
       "N53526     health           voices\n",
       "N38324     health          medical"
      ]
     },
     "execution_count": 2,
     "metadata": {},
     "output_type": "execute_result"
    }
   ],
   "source": [
    "news = pd.read_csv('Sample data/train/news.tsv', sep='\\t',header=None,  usecols=[0, 1, 2])\n",
    "news.columns = ['nID', 'label', 'sub_label']\n",
    "news = news.set_index('nID')\n",
    "news.head()"
   ]
  },
  {
   "cell_type": "code",
   "execution_count": 3,
   "metadata": {},
   "outputs": [],
   "source": [
    "newsLabels = {}\n",
    "\n",
    "for index, row in news.iterrows():\n",
    "    newsLabels[index] = (row['label'], row['sub_label'])"
   ]
  },
  {
   "cell_type": "code",
   "execution_count": 4,
   "metadata": {},
   "outputs": [],
   "source": [
    "interactions = pd.read_csv('Sample data/train/behaviors.tsv', sep='\\t',header=None, index_col=0, usecols=[0, 1, 3, 4])\n",
    "interactions.columns = ['uID','train','test']\n",
    "interactions = interactions.set_index('uID')"
   ]
  },
  {
   "cell_type": "code",
   "execution_count": 5,
   "metadata": {},
   "outputs": [],
   "source": [
    "interactions['test'] = interactions['test'].apply(lambda x: [(y.split('-')[0], int(y.split('-')[1])) for y in x.split(' ')])\n",
    "interactions['train'] = interactions['train'].str.split()"
   ]
  },
  {
   "cell_type": "code",
   "execution_count": 6,
   "metadata": {},
   "outputs": [],
   "source": [
    "userPerItem = defaultdict(set)\n",
    "itemPerUser = interactions['train'].to_dict()\n",
    "itemPerUser = {user:set(itemPerUser[user]) for user in itemPerUser if itemPerUser[user] is not np.NaN}\n",
    "\n",
    "for user, items in itemPerUser.items():\n",
    "    if items is not np.NAN:\n",
    "        for item in items:\n",
    "            userPerItem[item].add(user)"
   ]
  },
  {
   "cell_type": "markdown",
   "metadata": {},
   "source": [
    "### Similarity Function based on category:\n",
    "$$\\text{sim}=\\frac{\\text{sum of matched categories with item}}{\\text{total news read by user}} \\times (1+\\frac{\\text{sum of matched subcategories}}{\\text{sum of matched categories with item}})$$"
   ]
  },
  {
   "cell_type": "code",
   "execution_count": 7,
   "metadata": {},
   "outputs": [],
   "source": [
    "def similarity(testID, userID):\n",
    "    testLabel = newsLabels[testID]\n",
    "    labelcount = 0\n",
    "    sublabelcount = 0\n",
    "    if userID not in itemPerUser or len(itemPerUser[userID]) == 0:\n",
    "        return 0\n",
    "    for newsID in itemPerUser[userID]:\n",
    "        if newsID != testID:\n",
    "            newsLabel = newsLabels[newsID]\n",
    "            if newsLabel[0] == testLabel[0]:\n",
    "                labelcount += 1\n",
    "            if newsLabel[1] == testLabel[1]:\n",
    "                sublabelcount += 1\n",
    "    if labelcount == 0:\n",
    "        return 0\n",
    "    return (labelcount / len(itemPerUser[userID])) * (1+ sublabelcount / labelcount)\n",
    "    "
   ]
  },
  {
   "cell_type": "code",
   "execution_count": 8,
   "metadata": {},
   "outputs": [
    {
     "data": {
      "image/png": "[encoded data removed]",
      "text/plain": [
       "<Figure size 432x288 with 1 Axes>"
      ]
     },
     "metadata": {
      "needs_background": "light"
     },
     "output_type": "display_data"
    }
   ],
   "source": [
    "import seaborn as sns\n",
    "\n",
    "countList = [len(users) for item, users in userPerItem.items()]\n",
    "\n",
    "sns.histplot(countList);"
   ]
  },
  {
   "cell_type": "code",
   "execution_count": 9,
   "metadata": {},
   "outputs": [
    {
     "data": {
      "text/plain": [
       "0.6666666666666666"
      ]
     },
     "execution_count": 9,
     "metadata": {},
     "output_type": "execute_result"
    }
   ],
   "source": [
    "testID = 'N39317'\n",
    "userID = 'U91836'\n",
    "similarity(testID, userID)\n"
   ]
  },
  {
   "cell_type": "code",
   "execution_count": 10,
   "metadata": {},
   "outputs": [],
   "source": [
    "testset = [(uid, nid, label) for uid, items in interactions['test'].items() for nid, label in items]\n",
    "sims = []\n",
    "for user, test, label in testset:\n",
    "    sims.append(similarity(test, user))\n"
   ]
  },
  {
   "cell_type": "code",
   "execution_count": 11,
   "metadata": {},
   "outputs": [],
   "source": [
    "labels = [tup[2] for tup in testset]"
   ]
  },
  {
   "cell_type": "code",
   "execution_count": 13,
   "metadata": {},
   "outputs": [],
   "source": [
    "result = pd.DataFrame({'sim': sims, 'label': labels})"
   ]
  },
  {
   "cell_type": "code",
   "execution_count": 19,
   "metadata": {},
   "outputs": [
    {
     "data": {
      "text/plain": [
       "<Figure size 1080x864 with 0 Axes>"
      ]
     },
     "execution_count": 19,
     "metadata": {},
     "output_type": "execute_result"
    },
    {
     "data": {
      "text/plain": [
       "<Figure size 1080x864 with 0 Axes>"
      ]
     },
     "metadata": {},
     "output_type": "display_data"
    }
   ],
   "source": [
    "import matplotlib.pyplot as plt\n",
    "plt.figure(figsize=(15, 12))"
   ]
  },
  {
   "cell_type": "code",
   "execution_count": 20,
   "metadata": {},
   "outputs": [
    {
     "data": {
      "text/plain": [
       "(0.0, 0.1)"
      ]
     },
     "execution_count": 20,
     "metadata": {},
     "output_type": "execute_result"
    },
    {
     "data": {
      "image/png": "[encoded data removed]",
      "text/plain": [
       "<Figure size 432x288 with 1 Axes>"
      ]
     },
     "metadata": {
      "needs_background": "light"
     },
     "output_type": "display_data"
    }
   ],
   "source": [
    "sns.histplot(result['sim'])\n",
    "plt.xlim(0, 0.1)"
   ]
  },
  {
   "cell_type": "code",
   "execution_count": 176,
   "metadata": {},
   "outputs": [
    {
     "data": {
      "text/plain": [
       "(0.0, 60000.0)"
      ]
     },
     "execution_count": 176,
     "metadata": {},
     "output_type": "execute_result"
    },
    {
     "data": {
      "image/png": "[encoded data removed]",
      "text/plain": [
       "<Figure size 432x288 with 1 Axes>"
      ]
     },
     "metadata": {
      "needs_background": "light"
     },
     "output_type": "display_data"
    }
   ],
   "source": [
    "sns.histplot(result[result['label'] == 1]['sim'])\n",
    "plt.xlim(0, 1.25)\n",
    "plt.ylim(0, 60000)"
   ]
  },
  {
   "cell_type": "code",
   "execution_count": 177,
   "metadata": {},
   "outputs": [
    {
     "data": {
      "text/plain": [
       "(0.0, 60000.0)"
      ]
     },
     "execution_count": 177,
     "metadata": {},
     "output_type": "execute_result"
    },
    {
     "data": {
      "image/png": "[encoded data removed]",
      "text/plain": [
       "<Figure size 432x288 with 1 Axes>"
      ]
     },
     "metadata": {
      "needs_background": "light"
     },
     "output_type": "display_data"
    }
   ],
   "source": [
    "sns.histplot(result[result['label'] == 0]['sim'])\n",
    "plt.xlim(0, 1.25)\n",
    "plt.ylim(0, 60000)"
   ]
  },
  {
   "cell_type": "code",
   "execution_count": 180,
   "metadata": {},
   "outputs": [
    {
     "data": {
      "text/plain": [
       "0.30221663799635967"
      ]
     },
     "execution_count": 180,
     "metadata": {},
     "output_type": "execute_result"
    }
   ],
   "source": [
    "np.mean(np.array(sims) == 0)"
   ]
  },
  {
   "cell_type": "code",
   "execution_count": 21,
   "metadata": {},
   "outputs": [
    {
     "name": "stdout",
     "output_type": "stream",
     "text": [
      "Accuracy: 32.76%\n",
      "Reverse Accuracy: 67.24%\n"
     ]
    }
   ],
   "source": [
    "similarity_threshold = 0.01\n",
    "result['predicted_label'] = result['sim'] > similarity_threshold\n",
    "\n",
    "accuracy = (result['predicted_label'] == result['label']).mean()\n",
    "\n",
    "print(f\"Accuracy: {accuracy * 100:.2f}%\")\n",
    "print(f\"Reverse Accuracy: {(1-accuracy) * 100:.2f}%\")"
   ]
  }
 ],
 "metadata": {
  "kernelspec": {
   "display_name": "Python 3.9.7 ('base')",
   "language": "python",
   "name": "python3"
  },
  "language_info": {
   "codemirror_mode": {
    "name": "ipython",
    "version": 3
   },
   "file_extension": ".py",
   "mimetype": "text/x-python",
   "name": "python",
   "nbconvert_exporter": "python",
   "pygments_lexer": "ipython3",
   "version": "3.9.5"
  },
  "vscode": {
   "interpreter": {
    "hash": "ecc09027ee5b2bcf5085d4cda4c9868425dafff1c3df9390a50dd18cedb3cd7a"
   }
  }
 },
 "nbformat": 4,
 "nbformat_minor": 2
}
