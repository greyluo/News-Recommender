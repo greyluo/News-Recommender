{
 "cells": [
  {
   "cell_type": "code",
   "execution_count": null,
   "metadata": {},
   "outputs": [],
   "source": [
    "import numpy as np\n",
    "import pandas as pd\n",
    "from collections import defaultdict"
   ]
  },
  {
   "cell_type": "code",
   "execution_count": null,
   "metadata": {},
   "outputs": [],
   "source": [
    "news = pd.read_csv('Sample data/train/news.tsv', sep='\\t',header=None,  usecols=[0, 1, 2])\n",
    "news.columns = ['nID', 'label', 'sub_label']\n",
    "news = news.set_index('nID')\n",
    "news.head()"
   ]
  },
  {
   "cell_type": "code",
   "execution_count": null,
   "metadata": {},
   "outputs": [],
   "source": [
    "newsLabels = {}\n",
    "\n",
    "for index, row in news.iterrows():\n",
    "    newsLabels[index] = (row['label'], row['sub_label'])"
   ]
  },
  {
   "cell_type": "code",
   "execution_count": null,
   "metadata": {},
   "outputs": [],
   "source": [
    "interactions = pd.read_csv('Sample data/train/behaviors.tsv', sep='\\t',header=None, index_col=0, usecols=[0, 1, 3, 4])\n",
    "interactions.columns = ['uID','train','test']\n",
    "interactions = interactions.set_index('uID')"
   ]
  },
  {
   "cell_type": "code",
   "execution_count": null,
   "metadata": {},
   "outputs": [],
   "source": [
    "interactions['test'] = interactions['test'].apply(lambda x: [(y.split('-')[0], int(y.split('-')[1])) for y in x.split(' ')])\n",
    "interactions['train'] = interactions['train'].str.split()"
   ]
  },
  {
   "cell_type": "markdown",
   "metadata": {},
   "source": [
    "Modified Jacard similarity with news category as a multiplyer:\n",
    "- If the news are in same category, multiplier = 2\n",
    "- If the news are in the same subcategory, multiplier = 4"
   ]
  },
  {
   "cell_type": "code",
   "execution_count": 115,
   "metadata": {},
   "outputs": [],
   "source": [
    "userPerItem = defaultdict(set)\n",
    "itemPerUser = interactions['train'].to_dict()\n",
    "itemPerUser = {user:set(itemPerUser[user]) for user in itemPerUser if itemPerUser[user] is not np.NaN}\n",
    "\n",
    "for user, items in itemPerUser.items():\n",
    "    if items is not np.NAN:\n",
    "        for item in items:\n",
    "            userPerItem[item].add(user)"
   ]
  },
  {
   "cell_type": "code",
   "execution_count": 152,
   "metadata": {},
   "outputs": [],
   "source": [
    "def similarity(testID, userID):\n",
    "    testLabel = newsLabels[testID]\n",
    "    labelcount = 0\n",
    "    sublabelcount = 0\n",
    "    if userID not in itemPerUser or len(itemPerUser[userID]) == 0:\n",
    "        return 0\n",
    "    for newsID in itemPerUser[userID]:\n",
    "        if newsID != testID:\n",
    "            newsLabel = newsLabels[newsID]\n",
    "            if newsLabel[0] == testLabel[0]:\n",
    "                labelcount += 1\n",
    "            if newsLabel[1] == testLabel[1]:\n",
    "                sublabelcount += 1\n",
    "    if labelcount == 0:\n",
    "        return 0\n",
    "    return (labelcount / len(itemPerUser[userID])) * (1+ sublabelcount / labelcount)\n",
    "    "
   ]
  },
  {
   "cell_type": "code",
   "execution_count": 85,
   "metadata": {},
   "outputs": [
    {
     "data": {
      "image/png": "[encoded data removed]",
      "text/plain": [
       "<Figure size 432x288 with 1 Axes>"
      ]
     },
     "metadata": {
      "needs_background": "light"
     },
     "output_type": "display_data"
    }
   ],
   "source": [
    "import seaborn as sns\n",
    "\n",
    "countList = [len(users) for item, users in userPerItem.items()]\n",
    "\n",
    "sns.histplot(countList);"
   ]
  },
  {
   "cell_type": "code",
   "execution_count": 135,
   "metadata": {},
   "outputs": [
    {
     "data": {
      "text/plain": [
       "0.0"
      ]
     },
     "execution_count": 135,
     "metadata": {},
     "output_type": "execute_result"
    }
   ],
   "source": [
    "testID = 'N39317'\n",
    "userID = 'U91836'\n",
    "similarity(testID, userID)\n"
   ]
  },
  {
   "cell_type": "code",
   "execution_count": 153,
   "metadata": {},
   "outputs": [],
   "source": [
    "testset = [(uid, nid, label) for uid, items in interactions['test'].items() for nid, label in items]\n",
    "sims = []\n",
    "for user, test, label in testset:\n",
    "    sims.append(similarity(test, user))\n"
   ]
  },
  {
   "cell_type": "code",
   "execution_count": 155,
   "metadata": {},
   "outputs": [],
   "source": [
    "labels = [tup[2] for tup in testset]"
   ]
  },
  {
   "cell_type": "code",
   "execution_count": 162,
   "metadata": {},
   "outputs": [],
   "source": [
    "temp = pd.DataFrame({'sim': sims, 'label': labels})\n"
   ]
  },
  {
   "cell_type": "code",
   "execution_count": 174,
   "metadata": {},
   "outputs": [
    {
     "data": {
      "text/plain": [
       "<Figure size 1080x864 with 0 Axes>"
      ]
     },
     "execution_count": 174,
     "metadata": {},
     "output_type": "execute_result"
    },
    {
     "data": {
      "text/plain": [
       "<Figure size 1080x864 with 0 Axes>"
      ]
     },
     "metadata": {},
     "output_type": "display_data"
    }
   ],
   "source": [
    "import matplotlib.pyplot as plt\n",
    "plt.figure(figsize=(15, 12))"
   ]
  },
  {
   "cell_type": "code",
   "execution_count": 176,
   "metadata": {},
   "outputs": [
    {
     "data": {
      "text/plain": [
       "(0.0, 60000.0)"
      ]
     },
     "execution_count": 176,
     "metadata": {},
     "output_type": "execute_result"
    },
    {
     "data": {
      "image/png": "[encoded data removed]",
      "text/plain": [
       "<Figure size 432x288 with 1 Axes>"
      ]
     },
     "metadata": {
      "needs_background": "light"
     },
     "output_type": "display_data"
    }
   ],
   "source": [
    "sns.histplot(temp[temp['label'] == 1]['sim'])\n",
    "plt.xlim(0, 1.25)\n",
    "plt.ylim(0, 60000)"
   ]
  },
  {
   "cell_type": "code",
   "execution_count": 177,
   "metadata": {},
   "outputs": [
    {
     "data": {
      "text/plain": [
       "(0.0, 60000.0)"
      ]
     },
     "execution_count": 177,
     "metadata": {},
     "output_type": "execute_result"
    },
    {
     "data": {
      "image/png": "[encoded data removed]",
      "text/plain": [
       "<Figure size 432x288 with 1 Axes>"
      ]
     },
     "metadata": {
      "needs_background": "light"
     },
     "output_type": "display_data"
    }
   ],
   "source": [
    "sns.histplot(temp[temp['label'] == 0]['sim'])\n",
    "plt.xlim(0, 1.25)\n",
    "plt.ylim(0, 60000)"
   ]
  },
  {
   "cell_type": "code",
   "execution_count": 180,
   "metadata": {},
   "outputs": [
    {
     "data": {
      "text/plain": [
       "0.30221663799635967"
      ]
     },
     "execution_count": 180,
     "metadata": {},
     "output_type": "execute_result"
    }
   ],
   "source": [
    "np.mean(np.array(sims) == 0)"
   ]
  },
  {
   "cell_type": "code",
   "execution_count": 181,
   "metadata": {},
   "outputs": [
    {
     "data": {
      "text/plain": [
       "5843444"
      ]
     },
     "execution_count": 181,
     "metadata": {},
     "output_type": "execute_result"
    }
   ],
   "source": [
    "len(sims)"
   ]
  },
  {
   "cell_type": "code",
   "execution_count": 170,
   "metadata": {},
   "outputs": [
    {
     "data": {
      "text/plain": [
       "0.27553475895303103"
      ]
     },
     "execution_count": 170,
     "metadata": {},
     "output_type": "execute_result"
    }
   ],
   "source": [
    "temp[temp['label'] == 1]['sim'].mean()"
   ]
  },
  {
   "cell_type": "code",
   "execution_count": null,
   "metadata": {},
   "outputs": [],
   "source": []
  }
 ],
 "metadata": {
  "kernelspec": {
   "display_name": "Python 3.9.7 ('base')",
   "language": "python",
   "name": "python3"
  },
  "language_info": {
   "codemirror_mode": {
    "name": "ipython",
    "version": 3
   },
   "file_extension": ".py",
   "mimetype": "text/x-python",
   "name": "python",
   "nbconvert_exporter": "python",
   "pygments_lexer": "ipython3",
   "version": "3.9.7"
  },
  "vscode": {
   "interpreter": {
    "hash": "ecc09027ee5b2bcf5085d4cda4c9868425dafff1c3df9390a50dd18cedb3cd7a"
   }
  }
 },
 "nbformat": 4,
 "nbformat_minor": 2
}
