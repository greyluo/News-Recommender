{
 "cells": [
  {
   "cell_type": "code",
   "execution_count": 1,
   "metadata": {},
   "outputs": [],
   "source": [
    "import gc # garbage collector\n",
    "import pandas as pd\n",
    "import numpy as np\n",
    "from sklearn.feature_extraction.text import TfidfVectorizer\n",
    "from sklearn.preprocessing import OneHotEncoder\n",
    "from scipy.sparse import csr_matrix, hstack, lil_matrix\n",
    "from sklearn.preprocessing import MinMaxScaler\n",
    "from sklearn.metrics import roc_auc_score\n",
    "from collections import Counter\n",
    "from FactorizationMachineClassifier import FactorizationMachineClassifier"
   ]
  },
  {
   "cell_type": "code",
   "execution_count": 2,
   "metadata": {},
   "outputs": [],
   "source": [
    "def process_dataset(news_filepath, interactions_filepath, fraction):\n",
    "    \"\"\" Read and process the datasets given the filepath. Return the cleaned news_df and interactions_df\"\"\"\n",
    "\n",
    "    news = pd.read_csv(news_filepath,sep='\\t',header=None, index_col=0)\n",
    "    news.columns = [\"Category\", \"SubCategory\", \"Title\", \"Abstract\", \"URL\", \"Entities\", \"RelatedEntities\"]\n",
    "    news.drop(columns=[\"URL\", \"Entities\", \"RelatedEntities\"], inplace=True)\n",
    "    news['Abstract'] = news['Abstract'].fillna('missing')\n",
    "\n",
    "    interactions = pd.read_csv(interactions_filepath, sep='\\t',header=None, index_col=0)\n",
    "    interactions.columns = ['uID', 'timestamp', 'history', 'impLog']\n",
    "    # data type conversion\n",
    "    interactions['impLog'] = interactions['impLog'].apply(lambda x: [(y.split('-')[0], int(y.split('-')[1])) for y in x.split(' ')])\n",
    "    interactions['history'] = interactions['history'].str.split()\n",
    "    interactions['timestamp'] = pd.to_datetime(interactions['timestamp'], format='%m/%d/%Y %I:%M:%S %p')\n",
    "\n",
    "    gc.collect()\n",
    "    \n",
    "    return news, interactions.sample(frac=fraction, random_state=1)"
   ]
  },
  {
   "cell_type": "code",
   "execution_count": 3,
   "metadata": {},
   "outputs": [],
   "source": [
    "def feature_label(news, interactions, max_feature):\n",
    "    \"\"\" Given the news dataset and interactions dataset, return the feature vector (X) and the lable vector (y)\"\"\"\n",
    "\n",
    "    def vectorize(data):\n",
    "        vectorizer = TfidfVectorizer(max_features=max_feature, stop_words='english')\n",
    "        vectorizer.fit(data)\n",
    "        return vectorizer.transform(data)\n",
    "    tfidf = vectorize(news['Title'])\n",
    "    tfidf_abstract = vectorize(news['Abstract'])\n",
    "    def one_hot(data, category):\n",
    "        enc = OneHotEncoder(categories=[category_dict[category]], handle_unknown='ignore')\n",
    "        return enc.fit_transform(data)\n",
    "    one_hot_category = one_hot(news[['SubCategory']], 'SubCategory')\n",
    "    news_vector = hstack([tfidf, tfidf_abstract, one_hot_category], format='csr')\n",
    "    news_map = dict(zip(news.index, news_vector.toarray()))\n",
    "\n",
    "    def process_row(row, categories):   \n",
    "        category_count = Counter(row)\n",
    "        return [category_count.get(category, 0) for category in categories]\n",
    "    def labels_one_hot(category):\n",
    "        interactions[category] = interactions['history'].apply(lambda x: [news.at[nID, category] for nID in x] if x is not np.NaN else [])\n",
    "        return interactions[category].apply(lambda x: process_row(x, category_dict[category]))\n",
    "    interactions['subcategory_hist_encoded'] = labels_one_hot('SubCategory')\n",
    "    interactions['history'] = interactions['history'].apply(lambda x: [news_map[nid] for nid in x if nid in news_map] if x is not np.NaN else [0] * max_feature)\n",
    "\n",
    "    interactions_explode = interactions[['uID', 'impLog', 'timestamp', 'subcategory_hist_encoded']].explode('impLog')\n",
    "    interactions_explode['nID'] = interactions_explode['impLog'].apply(lambda x: news_map[x[0]] if x[0] in news_map else np.zeros(len(list(news_map.values())[0])))\n",
    "    interactions_explode['label'] = interactions_explode['impLog'].apply(lambda x: x[1])\n",
    "\n",
    "    # standardize the user_history label columns\n",
    "    scalar = MinMaxScaler()\n",
    "    subcategory_hist_encoded = scalar.fit_transform(interactions_explode['subcategory_hist_encoded'].to_list())\n",
    "\n",
    "    news_encoded = csr_matrix(interactions_explode['nID'].to_list())\n",
    "    \n",
    "    labels = interactions_explode['label'].to_numpy() # y\n",
    "\n",
    "\n",
    "    del interactions, interactions_explode, news_map, news # free up memory\n",
    "    gc.collect()\n",
    "\n",
    "    return hstack([news_encoded, subcategory_hist_encoded], format='csr'), labels#, time_encoded], format='csr'), labels"
   ]
  },
  {
   "cell_type": "code",
   "execution_count": 4,
   "metadata": {},
   "outputs": [],
   "source": [
    "news_train, interactions_train = process_dataset('Sample data/train/news.tsv', 'Sample data/train/behaviors.tsv', fraction=0.5)"
   ]
  },
  {
   "cell_type": "code",
   "execution_count": 5,
   "metadata": {},
   "outputs": [
    {
     "name": "stdout",
     "output_type": "stream",
     "text": [
      "train data collected\n"
     ]
    }
   ],
   "source": [
    "category_dict = {'Category': news_train['Category'].unique(), 'SubCategory': news_train['SubCategory'].unique()}\n",
    "\n",
    "X_train, y_train = feature_label(news_train, interactions_train, 1000)\n",
    "print(\"train data collected\")"
   ]
  },
  {
   "cell_type": "code",
   "execution_count": 6,
   "metadata": {},
   "outputs": [
    {
     "name": "stderr",
     "output_type": "stream",
     "text": [
      "  0%|          | 0/10 [00:00<?, ?it/s]"
     ]
    },
    {
     "name": "stderr",
     "output_type": "stream",
     "text": [
      "100%|██████████| 10/10 [00:05<00:00,  1.87it/s]\n"
     ]
    },
    {
     "name": "stdout",
     "output_type": "stream",
     "text": [
      "model training completed\n",
      "Train AUC score: 0.6248767519769859\n"
     ]
    }
   ],
   "source": [
    "fm = FactorizationMachineClassifier(n_iter = 10, learning_rate = 0.01, n_factors=1, verbose=True)\n",
    "fm.fit(X_train, y_train)\n",
    "print(\"model training completed\")\n",
    "\n",
    "y_pred_train = fm.predict(X_train)\n",
    "print(\"Train AUC score: \" + str(roc_auc_score(y_train, y_pred_train)))"
   ]
  },
  {
   "cell_type": "code",
   "execution_count": 7,
   "metadata": {},
   "outputs": [],
   "source": [
    "news_test, interactions_test = process_dataset('Sample data/test/news.tsv', 'Sample data/test/behaviors.tsv', fraction=0.5)"
   ]
  },
  {
   "cell_type": "code",
   "execution_count": 8,
   "metadata": {},
   "outputs": [
    {
     "name": "stdout",
     "output_type": "stream",
     "text": [
      "test data collected\n",
      "Test AUC score: 0.5810629501877567\n"
     ]
    }
   ],
   "source": [
    "X_test, y_test = feature_label(news_test, interactions_test, 1000)\n",
    "print(\"test data collected\")\n",
    "\n",
    "y_pred_test = fm.predict(X_test)\n",
    "print(\"Test AUC score: \" + str(roc_auc_score(y_test, y_pred_test)))"
   ]
  },
  {
   "cell_type": "code",
   "execution_count": null,
   "metadata": {},
   "outputs": [],
   "source": []
  }
 ],
 "metadata": {
  "kernelspec": {
   "display_name": "base",
   "language": "python",
   "name": "python3"
  },
  "language_info": {
   "codemirror_mode": {
    "name": "ipython",
    "version": 3
   },
   "file_extension": ".py",
   "mimetype": "text/x-python",
   "name": "python",
   "nbconvert_exporter": "python",
   "pygments_lexer": "ipython3",
   "version": "3.11.5"
  }
 },
 "nbformat": 4,
 "nbformat_minor": 2
}
